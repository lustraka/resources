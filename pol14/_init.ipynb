{
 "cells": [
  {
   "cell_type": "markdown",
   "metadata": {},
   "source": [
    "# `pol14` Auxiliary Codebase"
   ]
  },
  {
   "cell_type": "code",
   "execution_count": null,
   "metadata": {},
   "outputs": [],
   "source": [
    "import csv\n",
    "\n",
    "def pol14_init_ttl():\n",
    "    namespace = \"https://lustraka.github.io/resources/pol14/\"\n",
    "    skos_concept = \"a skos:Concept\"\n",
    "    schema_name = \"schema:name\"\n",
    "    schema_description = \"schema:description\"\n",
    "    \n",
    "    with open('_pol14_heuristics.csv', mode='r', encoding='utf-8') as csvfile:\n",
    "        reader = csv.DictReader(csvfile)\n",
    "        with open('pol14.ttl', mode='w', encoding='utf-8') as ttlfile:\n",
    "            ttlfile.write('@prefix pol14: <https://lustraka.github.io/resources/pol14/> .\\n')\n",
    "            ttlfile.write('@prefix schema: <http://schema.org/> .\\n')\n",
    "            ttlfile.write('@prefix skos: <http://www.w3.org/2004/02/skos/core#> .\\n\\n')\n",
    "            \n",
    "            for row in reader:\n",
    "                iri = row['IRI']\n",
    "                name = row['name']\n",
    "                description = row['description']\n",
    "                \n",
    "                ttlfile.write(f'pol14:{iri} {skos_concept} ;\\n')\n",
    "                ttlfile.write(f'    {schema_name} \"{name}\" ;\\n')\n",
    "                ttlfile.write(f'    {schema_description} \"{description}\" .\\n\\n')\n",
    "\n",
    "# Call the function to generate the TTL file\n",
    "# pol14_init_ttl() # Initial TTL file generated 2025-03-03"
   ]
  },
  {
   "cell_type": "code",
   "execution_count": null,
   "metadata": {},
   "outputs": [],
   "source": [
    "import csv\n",
    "\n",
    "def pol14_init_md():\n",
    "    with open('_pol14_heuristics.csv', mode='r') as file:\n",
    "        reader = csv.DictReader(file)\n",
    "        for row in reader:\n",
    "            iri = row['IRI']\n",
    "            name = row['name']\n",
    "            description = row['description']\n",
    "            \n",
    "            content = f\"\"\"# {name}\n",
    "\n",
    "URI|https://lustraka.github.io/resources/pol14/{iri}\n",
    "-|-\n",
    "Description|{description}\n",
    "Created|2025-03-03\n",
    "\n",
    "\"\"\"\n",
    "            with open(f'{iri}.md', mode='w') as md_file:\n",
    "                md_file.write(content)\n",
    "\n",
    "#pol14_init_md() # Initial MD files created 2025-03-03"
   ]
  },
  {
   "cell_type": "code",
   "execution_count": 6,
   "metadata": {},
   "outputs": [],
   "source": [
    "import csv\n",
    "\n",
    "def pol14_init_toc():\n",
    "    with open('_pol14_heuristics.csv', mode='r') as file:\n",
    "        reader = csv.DictReader(file)\n",
    "        content = \"## Table of Contents\\n\"\n",
    "        for row in reader:\n",
    "            iri = row['IRI']\n",
    "            name = row['name']\n",
    "            description = row['description']\n",
    "            \n",
    "            content += f\"- [{name}]({iri}.md) : {description}\\n\"\n",
    "        content += \"\\n\"\n",
    "    with open(f'_toc.md', mode='w') as md_file:\n",
    "        md_file.write(content)\n",
    "\n",
    "pol14_init_toc() # Initial TOC created 2025-03-03\n"
   ]
  },
  {
   "cell_type": "code",
   "execution_count": null,
   "metadata": {},
   "outputs": [],
   "source": []
  }
 ],
 "metadata": {
  "kernelspec": {
   "display_name": "Python 3",
   "language": "python",
   "name": "python3"
  },
  "language_info": {
   "codemirror_mode": {
    "name": "ipython",
    "version": 3
   },
   "file_extension": ".py",
   "mimetype": "text/x-python",
   "name": "python",
   "nbconvert_exporter": "python",
   "pygments_lexer": "ipython3",
   "version": "3.11.9"
  }
 },
 "nbformat": 4,
 "nbformat_minor": 2
}
